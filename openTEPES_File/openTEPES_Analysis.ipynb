{
 "cells": [
  {
   "cell_type": "code",
   "execution_count": 1,
   "metadata": {},
   "outputs": [],
   "source": [
    "import numpy as np"
   ]
  },
  {
   "cell_type": "code",
   "execution_count": 2,
   "metadata": {},
   "outputs": [],
   "source": [
    "foo = \"bar\""
   ]
  },
  {
   "cell_type": "code",
   "execution_count": 3,
   "metadata": {},
   "outputs": [],
   "source": [
    "baz = True"
   ]
  },
  {
   "cell_type": "code",
   "execution_count": 4,
   "metadata": {},
   "outputs": [],
   "source": [
    "matrix = np.random.randn(10,10)"
   ]
  },
  {
   "cell_type": "code",
   "execution_count": 1,
   "metadata": {},
   "outputs": [
    {
     "name": "stdout",
     "output_type": "stream",
     "text": [
      "Input data            ****\n",
      "Reading    input data                 ...  0 s\n",
      "Setting up input data                 ...  35 s\n",
      "Model formulation     ****\n",
      "Generating objective function         ...  4 s\n",
      "eInstalGenCap         ...  0  rows\n",
      "eInstalGenESS         ...  0  rows\n",
      "eInstalConESS         ...  0  rows\n",
      "eOperReserveUp        ...  4368  rows\n",
      "eOperReserveDw        ...  4368  rows\n",
      "eBalance              ...  39312  rows\n",
      "eESSInventory         ...  364  rows\n",
      "Generating reserves/balance/inventory ...  4 s\n",
      "eMaxOutput2ndBlock    ...  56784  rows\n",
      "eMinOutput2ndBlock    ...  56784  rows\n",
      "eTotalOutput          ...  61152  rows\n",
      "eUCStrShut            ...  61152  rows\n",
      "Generating generation constraints     ...  8 s\n",
      "eRampUp               ...  8736  rows\n",
      "eRampDw               ...  8736  rows\n",
      "Generating ramps   up/down            ...  1 s\n",
      "eMinUpTime            ...  4364  rows\n",
      "eMinDownTime          ...  4363  rows\n",
      "Generating minimum up/down time       ...  1 s\n",
      "eInstalNetCap1        ...  4368  rows\n",
      "eInstalNetCap2        ...  4368  rows\n",
      "eKirchhoff2ndLawExst  ...  52416  rows\n",
      "eKirchhoff2ndLawCnd1  ...  4368  rows\n",
      "eKirchhoff2ndLawCnd2  ...  4368  rows\n",
      "eLineLosses1          ...  0  rows\n",
      "eLineLosses2          ...  0  rows\n",
      "Generating network    constraints     ...  4 s\n",
      "Writing LP file                       ...  0 s\n"
     ]
    }
   ],
   "source": [
    "import openTEPES"
   ]
  },
  {
   "cell_type": "code",
   "execution_count": null,
   "metadata": {},
   "outputs": [],
   "source": []
  }
 ],
 "metadata": {
  "kernelspec": {
   "display_name": "Python 3",
   "language": "python",
   "name": "python3"
  },
  "language_info": {
   "codemirror_mode": {
    "name": "ipython",
    "version": 3
   },
   "file_extension": ".py",
   "mimetype": "text/x-python",
   "name": "python",
   "nbconvert_exporter": "python",
   "pygments_lexer": "ipython3",
   "version": "3.7.4"
  }
 },
 "nbformat": 4,
 "nbformat_minor": 4
}
