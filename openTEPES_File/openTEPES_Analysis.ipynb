{
 "cells": [
  {
   "cell_type": "code",
   "execution_count": 1,
   "metadata": {},
   "outputs": [
    {
     "name": "stdout",
     "output_type": "stream",
     "text": [
      "Input data            ****\n",
      "Reading    input data                 ...  0 s\n",
      "Setting up input data                 ...  23 s\n",
      "Total time                            ...  23 s\n"
     ]
    },
    {
     "name": "stderr",
     "output_type": "stream",
     "text": [
      "/home/ealvarez/notebooks/PYOMO/openTEPES_File/openTEPES_InputData_AC.py:579: RuntimeWarning: invalid value encountered in true_divide\n",
      "  Ybarra                      = np.divide(np.abs(mTEPES.Yb), np.abs(mTEPES.Yb))\n"
     ]
    }
   ],
   "source": [
    "import openTEPES"
   ]
  },
  {
   "cell_type": "code",
   "execution_count": 2,
   "metadata": {},
   "outputs": [],
   "source": [
    "# print(mTEPES.pLineY)"
   ]
  },
  {
   "cell_type": "code",
   "execution_count": 3,
   "metadata": {},
   "outputs": [
    {
     "data": {
      "text/plain": [
       "<matplotlib.image.AxesImage at 0x7f79ff083d60>"
      ]
     },
     "execution_count": 3,
     "metadata": {},
     "output_type": "execute_result"
    },
    {
     "data": {
      "image/png": "[encoded data removed]",
      "text/plain": [
       "<Figure size 432x288 with 1 Axes>"
      ]
     },
     "metadata": {
      "needs_background": "light"
     },
     "output_type": "display_data"
    }
   ],
   "source": [
    "import matplotlib.pylab as plt\n",
    "import scipy.sparse as sparse\n",
    "# create a sparse matrix with specific density\n",
    "# A = sparse.random(100,100, density=0.01)\n",
    "# visualize the sparse matrix with Spy\n",
    "plt.spy(mTEPES.Yb.imag)\n",
    "# plt.spy(mTEPES.Yorden.imag)"
   ]
  },
  {
   "cell_type": "code",
   "execution_count": 4,
   "metadata": {},
   "outputs": [
    {
     "data": {
      "text/plain": [
       "<matplotlib.image.AxesImage at 0x7f79febca520>"
      ]
     },
     "execution_count": 4,
     "metadata": {},
     "output_type": "execute_result"
    },
    {
     "data": {
      "image/png": "[encoded data removed]",
      "text/plain": [
       "<Figure size 432x288 with 1 Axes>"
      ]
     },
     "metadata": {
      "needs_background": "light"
     },
     "output_type": "display_data"
    }
   ],
   "source": [
    "import matplotlib.pylab as plt\n",
    "import scipy.sparse as sparse\n",
    "# create a sparse matrix with specific density\n",
    "# A = sparse.random(100,100, density=0.01)\n",
    "# visualize the sparse matrix with Spy\n",
    "\n",
    "plt.spy(mTEPES.Yorden.imag)"
   ]
  },
  {
   "cell_type": "code",
   "execution_count": 5,
   "metadata": {},
   "outputs": [],
   "source": [
    "# print(mTEPES.Yb)"
   ]
  },
  {
   "cell_type": "code",
   "execution_count": 6,
   "metadata": {},
   "outputs": [],
   "source": [
    "# # from cvxopt import spmatrix, amd\n",
    "# # import chompack as cp\n",
    "\n",
    "# # # # generate sparse matrix\n",
    "# # # I = [0, 1, 3, 1, 5, 2, 6, 3, 4, 5, 4, 5, 6, 5, 6]\n",
    "# # # J = [0, 0, 0, 1, 1, 2, 2, 3, 3, 3, 4, 4, 4, 5, 6]\n",
    "# # # A = spmatrix(1.0, I, J, (7,7))\n",
    "\n",
    "# # # compute symbolic factorization using AMD ordering\n",
    "# # symb = cp.symbolic(mTEPES.Yorden.imag, p=amd.order)\n",
    "\n",
    "# import pprint\n",
    "# import scipy\n",
    "# import numpy as np\n",
    "# import scipy.linalg   # SciPy Linear Algebra Library\n",
    "# from chompack import symbolic, cspmatrix, cholesky\n",
    "# A = np.abs(mTEPES.Yorden.imag)\n",
    "# # A = scipy.array([[6, 3, 4, 8], [3, 6, 5, 1], [4, 5, 10, 7], [8, 1, 7, 25]])\n",
    "# # L = scipy.linalg.cholesky(A, lower=True)\n",
    "# U = scipy.linalg.cholesky(A, lower=False)\n",
    "\n",
    "# # P, L, U = scipy.linalg.lu(A)\n",
    "\n",
    "# otro   = np.zeros((len(mTEPES.nd), len(mTEPES.nd)))\n",
    "# otro   = otro + np.abs(U)/np.abs(U)\n",
    "# otro[np.isnan(otro)] = 0"
   ]
  },
  {
   "cell_type": "code",
   "execution_count": 7,
   "metadata": {},
   "outputs": [],
   "source": [
    "# from chompack import symbolic, cspmatrix, cholesky\n",
    "# cholesky(A)"
   ]
  },
  {
   "cell_type": "code",
   "execution_count": 8,
   "metadata": {},
   "outputs": [],
   "source": [
    "# print(otro)"
   ]
  },
  {
   "cell_type": "code",
   "execution_count": 9,
   "metadata": {},
   "outputs": [],
   "source": [
    "from cvxopt import spmatrix, amd\n",
    "import chompack as cp\n",
    "import numpy as np\n",
    "# symb = cp.symbolic(otro, p=amd.order)\n",
    "# A = spmatrix(1.0, L, U, (7,7))\n",
    "# print(A)\n",
    "from scipy.sparse import csr_matrix, find\n",
    "otro = np.abs(mTEPES.Yb.imag)\n",
    "A                      = csr_matrix(otro)\n",
    "#find(Ybarra)\n",
    "coo = A.tocoo()\n",
    "SP = spmatrix(1.0, coo.row.tolist(), coo.col.tolist())\n"
   ]
  },
  {
   "cell_type": "code",
   "execution_count": 10,
   "metadata": {},
   "outputs": [],
   "source": [
    "# symb = cp.symbolic(SP)\n",
    "symb = cp.symbolic(SP, p=amd.order)"
   ]
  },
  {
   "cell_type": "code",
   "execution_count": 11,
   "metadata": {},
   "outputs": [
    {
     "name": "stdout",
     "output_type": "stream",
     "text": [
      "[X X           ... ]\n",
      "[X X           ... ]\n",
      "[    X         ... ]\n",
      "[      X X     ... ]\n",
      "[      X X     ... ]\n",
      "[          X   ... ]\n",
      "[            X ... ]\n",
      "[          X X ... ]\n",
      "[          X X ... ]\n",
      "[              ... ]\n",
      "[              ... ]\n",
      "[              ... ]\n",
      "[              ... ]\n",
      "[              ... ]\n",
      "[              ... ]\n",
      "[              ... ]\n",
      "[              ... ]\n",
      "[        X     ... ]\n",
      "[        X     ... ]\n",
      "[    X         ... ]\n",
      "[              ... ]\n",
      "[  X X         ... ]\n",
      "[X X           ... ]\n",
      "[              ... ]\n",
      "\n"
     ]
    }
   ],
   "source": [
    " print(symb)"
   ]
  },
  {
   "cell_type": "code",
   "execution_count": 12,
   "metadata": {},
   "outputs": [
    {
     "name": "stdout",
     "output_type": "stream",
     "text": [
      "[[0, 1, 22], [1, 21, 22], [2, 19, 21], [3, 4], [4, 17, 18], [5, 7, 8], [6, 7, 8], [7, 8, 10], [8, 10, 21], [9, 10, 16], [10, 16, 21], [11, 15, 18], [12, 14, 17], [13, 14, 18], [14, 15, 17, 18], [15, 16, 17, 18], [16, 17, 18, 21], [17, 18, 19, 20, 21], [19, 20, 21, 23], [20, 21, 22, 23]]\n"
     ]
    }
   ],
   "source": [
    "print(symb.cliques())"
   ]
  },
  {
   "cell_type": "code",
   "execution_count": 13,
   "metadata": {},
   "outputs": [
    {
     "name": "stdout",
     "output_type": "stream",
     "text": [
      "[1, 19, 18, 4, 17, 7, 7, 8, 10, 10, 16, 15, 14, 14, 15, 16, 17, 18, 19, 19]\n"
     ]
    }
   ],
   "source": [
    "print(symb.parent())"
   ]
  },
  {
   "cell_type": "code",
   "execution_count": 14,
   "metadata": {},
   "outputs": [
    {
     "name": "stdout",
     "output_type": "stream",
     "text": [
      "[[0], [1], [2], [3], [4], [5], [6], [7], [8], [9], [10], [11], [12], [13], [14], [15], [16], [17, 18], [19], [20, 21, 22, 23]]\n"
     ]
    }
   ],
   "source": [
    "print(symb.supernodes())"
   ]
  },
  {
   "cell_type": "code",
   "execution_count": 15,
   "metadata": {},
   "outputs": [
    {
     "name": "stdout",
     "output_type": "stream",
     "text": [
      "[[1, 22], [21, 22], [19, 21], [4], [17, 18], [7, 8], [7, 8], [8, 10], [10, 21], [10, 16], [16, 21], [15, 18], [14, 17], [14, 18], [15, 17, 18], [16, 17, 18], [17, 18, 21], [19, 20, 21], [20, 21, 23], []]\n"
     ]
    }
   ],
   "source": [
    "print(symb.separators())"
   ]
  },
  {
   "cell_type": "code",
   "execution_count": 16,
   "metadata": {},
   "outputs": [],
   "source": [
    "cliques         = symb.cliques()\n",
    "ncliques        = len(symb.cliques())\n",
    "import numpy as np\n",
    "nbuscliques     = np.zeros((ncliques, 1), dtype=int)"
   ]
  },
  {
   "cell_type": "code",
   "execution_count": 17,
   "metadata": {},
   "outputs": [],
   "source": [
    "for i in range(0,ncliques):\n",
    "    nbuscliques[i] = len(cliques[i])"
   ]
  },
  {
   "cell_type": "code",
   "execution_count": 18,
   "metadata": {},
   "outputs": [],
   "source": [
    "# # M_reordered = symb.sparsity_pattern(reordered=False, symmetric=False)\n",
    "# M_reordered = symb.spmatrix(reordered = False)\n",
    "# print(M_reordered)"
   ]
  },
  {
   "cell_type": "code",
   "execution_count": 19,
   "metadata": {},
   "outputs": [
    {
     "data": {
      "text/plain": [
       "[[0, 1, 22],\n",
       " [1, 21, 22],\n",
       " [2, 19, 21],\n",
       " [3, 4],\n",
       " [4, 17, 18],\n",
       " [5, 7, 8],\n",
       " [6, 7, 8],\n",
       " [7, 8, 10],\n",
       " [8, 10, 21],\n",
       " [9, 10, 16],\n",
       " [10, 16, 21],\n",
       " [11, 15, 18],\n",
       " [12, 14, 17],\n",
       " [13, 14, 18],\n",
       " [14, 15, 17, 18],\n",
       " [15, 16, 17, 18],\n",
       " [16, 17, 18, 21],\n",
       " [17, 18, 19, 20, 21],\n",
       " [19, 20, 21, 23],\n",
       " [20, 21, 22, 23]]"
      ]
     },
     "execution_count": 19,
     "metadata": {},
     "output_type": "execute_result"
    }
   ],
   "source": [
    "cliques"
   ]
  },
  {
   "cell_type": "code",
   "execution_count": 20,
   "metadata": {},
   "outputs": [
    {
     "name": "stdout",
     "output_type": "stream",
     "text": [
      "[[0, 0, 0], [0, 0, 0], [0, 0, 0], [0, 0], [0, 0, 0], [0, 0, 0], [0, 0, 0], [0, 0, 0], [0, 0, 0], [0, 0, 0], [0, 0, 0], [0, 0, 0], [0, 0, 0], [0, 0, 0], [0, 0, 0, 0], [0, 0, 0, 0], [0, 0, 0, 0], [0, 0, 0, 0, 0], [0, 0, 0, 0], [0, 0, 0, 0]]\n"
     ]
    }
   ],
   "source": [
    "traduccion = symb.cliques()\n",
    "for i in range(0,ncliques):\n",
    "    for j in range(0,int(nbuscliques[i])):\n",
    "        traduccion[i][j] = 0\n",
    "print(traduccion)"
   ]
  },
  {
   "cell_type": "code",
   "execution_count": 21,
   "metadata": {},
   "outputs": [],
   "source": [
    "# traduccion = cliques-cliques\n",
    "# import numpy as np\n",
    "# traduccion = np.subtract(cliques,cliques)\n",
    "for i in range(0,ncliques):\n",
    "    for j in range(0,int(nbuscliques[i])):\n",
    "        a = int(symb.cliques()[i][j])\n",
    "        traduccion[i][j] = mTEPES.reordening[a]"
   ]
  },
  {
   "cell_type": "code",
   "execution_count": 22,
   "metadata": {},
   "outputs": [
    {
     "data": {
      "text/plain": [
       "[[19, 18, 22],\n",
       " [18, 15, 22],\n",
       " [13, 10, 15],\n",
       " [21, 17],\n",
       " [17, 8, 9],\n",
       " [20, 23, 14],\n",
       " [16, 23, 14],\n",
       " [23, 14, 4],\n",
       " [14, 4, 15],\n",
       " [3, 4, 2],\n",
       " [4, 2, 15],\n",
       " [5, 0, 9],\n",
       " [6, 1, 8],\n",
       " [7, 1, 9],\n",
       " [1, 0, 8, 9],\n",
       " [0, 2, 8, 9],\n",
       " [2, 8, 9, 15],\n",
       " [8, 9, 10, 11, 15],\n",
       " [10, 11, 15, 12],\n",
       " [11, 15, 22, 12]]"
      ]
     },
     "execution_count": 22,
     "metadata": {},
     "output_type": "execute_result"
    }
   ],
   "source": [
    "traduccion"
   ]
  },
  {
   "cell_type": "code",
   "execution_count": 27,
   "metadata": {},
   "outputs": [],
   "source": [
    "ncliques2 = [i for i in range(1,ncliques) if len(traduccion[i]) == 2]\n",
    "ncliques3 = [i for i in range(1,ncliques) if len(traduccion[i]) == 3]\n",
    "ncliques4 = [i for i in range(1,ncliques) if len(traduccion[i]) == 4]\n",
    "ncliques5 = [i for i in range(1,ncliques) if len(traduccion[i]) == 5]\n",
    "ncliques6 = [i for i in range(1,ncliques) if len(traduccion[i]) == 6]\n",
    "ncliques7 = [i for i in range(1,ncliques) if len(traduccion[i]) == 7]\n",
    "ncliques8 = [i for i in range(1,ncliques) if len(traduccion[i]) == 8]"
   ]
  },
  {
   "cell_type": "code",
   "execution_count": 28,
   "metadata": {},
   "outputs": [
    {
     "data": {
      "text/plain": [
       "[1, 2, 4, 5, 6, 7, 8, 9, 10, 11, 12, 13]"
      ]
     },
     "execution_count": 28,
     "metadata": {},
     "output_type": "execute_result"
    }
   ],
   "source": [
    "ncliques3"
   ]
  },
  {
   "cell_type": "code",
   "execution_count": 35,
   "metadata": {},
   "outputs": [],
   "source": [
    "clique_bus = [[] for i in range(0,len(mTEPES.nd))]\n",
    "for k in range(1,nbus)\n",
    "    for i=1:ncliques\n",
    "        for j=1:nbuscliques[i]\n",
    "            if k==traduccion[i][j]\n",
    "            a = convert(Int, traduccion[i][j])\n",
    "            push!(clique_bus[a],i)\n",
    "#             @constraint(m,eval(Xbs[k]).==eval(Xcliques[i])[j+j-1:j+j,j+j-1:j+j])\n"
   ]
  },
  {
   "cell_type": "code",
   "execution_count": 36,
   "metadata": {},
   "outputs": [
    {
     "data": {
      "text/plain": [
       "24"
      ]
     },
     "execution_count": 36,
     "metadata": {},
     "output_type": "execute_result"
    }
   ],
   "source": [
    "len(clique_bus)"
   ]
  },
  {
   "cell_type": "code",
   "execution_count": null,
   "metadata": {},
   "outputs": [],
   "source": []
  }
 ],
 "metadata": {
  "kernelspec": {
   "display_name": "Python 3",
   "language": "python",
   "name": "python3"
  },
  "language_info": {
   "codemirror_mode": {
    "name": "ipython",
    "version": 3
   },
   "file_extension": ".py",
   "mimetype": "text/x-python",
   "name": "python",
   "nbconvert_exporter": "python",
   "pygments_lexer": "ipython3",
   "version": "3.8.3"
  }
 },
 "nbformat": 4,
 "nbformat_minor": 4
}
