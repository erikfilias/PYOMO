{
 "cells": [
  {
   "cell_type": "code",
   "execution_count": null,
   "metadata": {},
   "outputs": [
    {
     "name": "stdout",
     "output_type": "stream",
     "text": [
      "Input data            ****\n",
      "Reading    input data                 ...  1 s\n",
      "Setting up input data                 ...  87 s\n",
      "[[0.+0.j 0.+0.j 0.+0.j ... 0.+0.j 0.+0.j 0.+0.j]\n",
      " [0.+0.j 0.+0.j 0.+0.j ... 0.+0.j 0.+0.j 0.+0.j]\n",
      " [0.+0.j 0.+0.j 0.+0.j ... 0.+0.j 0.+0.j 0.+0.j]\n",
      " ...\n",
      " [0.+0.j 0.+0.j 0.+0.j ... 0.+0.j 0.+0.j 0.+0.j]\n",
      " [0.+0.j 0.+0.j 0.+0.j ... 0.+0.j 0.+0.j 0.+0.j]\n",
      " [0.+0.j 0.+0.j 0.+0.j ... 0.+0.j 0.+0.j 0.+0.j]]\n",
      "[[142.840412  -255.20568328j  68.2104976  -94.81259166j\n",
      "    0.44737285  -9.44851454j ...   0.          +0.j\n",
      "    0.          +0.j           0.          +0.j        ]\n",
      " [ 68.2104976  -94.81259166j   3.55847102 -52.15216263j\n",
      "    0.          +0.j         ...   0.          +0.j\n",
      "    0.          +0.j           0.          +0.j        ]\n",
      " [  0.44737285  -9.44851454j   0.          +0.j\n",
      "    8.40771322 -80.38574578j ...   0.          +0.j\n",
      "    0.          +0.j           0.          +0.j        ]\n",
      " ...\n",
      " [  0.          +0.j           0.          +0.j\n",
      "    0.          +0.j         ... 220.99447514-198.89502762j\n",
      "    0.          +0.j         110.49723757 -99.44751381j]\n",
      " [  0.          +0.j           0.          +0.j\n",
      "    0.          +0.j         ...   0.          +0.j\n",
      "    0.          +0.j           0.          +0.j        ]\n",
      " [  0.          +0.j           0.          +0.j\n",
      "    0.          +0.j         ... 110.49723757 -99.44751381j\n",
      "    0.          +0.j           4.20654117 -40.80344936j]]\n"
     ]
    },
    {
     "name": "stderr",
     "output_type": "stream",
     "text": [
      "/home/ealvarez/notebooks/PYOMO/openTEPES_File/openTEPES_InputData_AC.py:558: RuntimeWarning: invalid value encountered in true_divide\n",
      "  Ybarra                      = np.abs(mTEPES.Yb)/np.abs(mTEPES.Yb)\n"
     ]
    }
   ],
   "source": [
    "import openTEPES"
   ]
  },
  {
   "cell_type": "code",
   "execution_count": null,
   "metadata": {},
   "outputs": [],
   "source": [
    "a = len(mTEPES.nd)"
   ]
  },
  {
   "cell_type": "code",
   "execution_count": null,
   "metadata": {},
   "outputs": [],
   "source": [
    "print(mTEPES.Yb)"
   ]
  },
  {
   "cell_type": "code",
   "execution_count": null,
   "metadata": {},
   "outputs": [],
   "source": [
    "from cvxopt import spmatrix\n",
    "A = spmatrix(1.0, range(4), range(4))\n",
    "print(A)"
   ]
  },
  {
   "cell_type": "code",
   "execution_count": null,
   "metadata": {},
   "outputs": [],
   "source": [
    "a = spmatrix([], [], [], (5,5))\n",
    "print(a)"
   ]
  },
  {
   "cell_type": "code",
   "execution_count": null,
   "metadata": {},
   "outputs": [],
   "source": [
    "import numpy as np\n",
    "Ybarra                      = np.abs(mTEPES.Yb)/np.abs(mTEPES.Yb)\n",
    "Ybarra[np.isnan(Ybarra)]    = 0"
   ]
  },
  {
   "cell_type": "code",
   "execution_count": null,
   "metadata": {},
   "outputs": [],
   "source": [
    "# from scipy.sparse import csc_matrix\n",
    "# from scipy.sparse.linalg import splu\n",
    "# Ybarra                      = csc_matrix(Ybarra.real)\n",
    "# reordening                  = splu(Ybarra, permc_spec = 'MMD_ATA')\n",
    "# print(reordening)"
   ]
  },
  {
   "cell_type": "code",
   "execution_count": null,
   "metadata": {},
   "outputs": [],
   "source": [
    "from scipy.sparse import csr_matrix, find\n",
    "Ybarra                      = csr_matrix(Ybarra.real)\n",
    "#find(Ybarra)\n",
    "coo = Ybarra.tocoo()\n",
    "SP = spmatrix(coo.data, coo.row.tolist(), coo.col.tolist())\n",
    "isinstance(SP,spmatrix)"
   ]
  },
  {
   "cell_type": "code",
   "execution_count": null,
   "metadata": {},
   "outputs": [],
   "source": [
    "from cvxopt import spmatrix, amd\n",
    "reordening = amd.order(SP)\n",
    "# print(reordening)\n",
    "Yorden                      = np.zeros((len(mTEPES.nd), len(mTEPES.nd)), dtype=complex)\n",
    "for ni in mTEPES.nd:\n",
    "    for nf in mTEPES.nd:\n",
    "        Yorden[mTEPES.dfPosition['Position'][ni], mTEPES.dfPosition['Position'][nf]] = mTEPES.Yb[reordening[mTEPES.dfPosition['Position'][ni]],reordening[mTEPES.dfPosition['Position'][nf]]]\n",
    "\n",
    "print(Yorden)"
   ]
  },
  {
   "cell_type": "code",
   "execution_count": null,
   "metadata": {},
   "outputs": [],
   "source": [
    "# from cvxopt import spmatrix, amd, normal\n",
    "# from chompack import symbolic, cspmatrix, cholesky\n",
    "# pattern=cholesky(abs(Yorden.imag))"
   ]
  },
  {
   "cell_type": "code",
   "execution_count": null,
   "metadata": {},
   "outputs": [],
   "source": [
    "# from cvxopt import spmatrix, amd, printing\n",
    "# import chompack as cp\n",
    "# printing.options['dformat'] = '%3.1f'\n",
    "# symb = cp.symbolic(SP, p=amd.order)"
   ]
  },
  {
   "cell_type": "code",
   "execution_count": null,
   "metadata": {},
   "outputs": [],
   "source": [
    "# from scipy.sparse import dia_matrix\n",
    "# Ybarra                      = dia_matrix(Ybarra.real)\n",
    "# isinstance(Ybarra,spmatrix)"
   ]
  },
  {
   "cell_type": "code",
   "execution_count": null,
   "metadata": {},
   "outputs": [],
   "source": [
    "import matplotlib.pylab as plt\n",
    "import scipy.sparse as sparse\n",
    "# create a sparse diagonal matrix with ones on the diagonal\n",
    "A = sparse.eye(100)\n",
    "# visualize the sparse matrix with Spy\n",
    "plt.spy(A)"
   ]
  },
  {
   "cell_type": "code",
   "execution_count": 7,
   "metadata": {},
   "outputs": [
    {
     "data": {
      "text/plain": [
       "'2020-06-12 07:40:10'"
      ]
     },
     "execution_count": 7,
     "metadata": {},
     "output_type": "execute_result"
    }
   ],
   "source": [
    "import datetime\n",
    "utc_datetime = datetime.datetime.utcnow()\n",
    "utc_datetime.strftime(\"%Y-%m-%d %H:%M:%S\")\n",
    "# '2010-02-01 06:59:19'"
   ]
  },
  {
   "cell_type": "code",
   "execution_count": 8,
   "metadata": {},
   "outputs": [
    {
     "data": {
      "text/plain": [
       "False"
      ]
     },
     "execution_count": 8,
     "metadata": {},
     "output_type": "execute_result"
    }
   ],
   "source": [
    "import re\n",
    "RE = re.compile(r'^\\d{4}-\\d{2}-\\d{2}[ T]\\d{2}:\\d{2}:\\d{2}[+-]\\d{2}:\\d{2}$')\n",
    "# bool(RE.search('2011-11-06 14:00:00+00:00'))\n",
    "bool(RE.search('utc_datetime'))"
   ]
  },
  {
   "cell_type": "code",
   "execution_count": null,
   "metadata": {},
   "outputs": [],
   "source": []
  }
 ],
 "metadata": {
  "kernelspec": {
   "display_name": "Python 3",
   "language": "python",
   "name": "python3"
  },
  "language_info": {
   "codemirror_mode": {
    "name": "ipython",
    "version": 3
   },
   "file_extension": ".py",
   "mimetype": "text/x-python",
   "name": "python",
   "nbconvert_exporter": "python",
   "pygments_lexer": "ipython3",
   "version": "3.7.4"
  }
 },
 "nbformat": 4,
 "nbformat_minor": 4
}
